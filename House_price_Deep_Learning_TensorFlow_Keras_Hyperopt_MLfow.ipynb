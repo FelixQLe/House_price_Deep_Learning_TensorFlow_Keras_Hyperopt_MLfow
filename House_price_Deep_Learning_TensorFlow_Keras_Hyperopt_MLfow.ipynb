{
 "cells": [
  {
   "cell_type": "markdown",
   "id": "74dcefa9",
   "metadata": {},
   "source": [
    "## NOTE\n",
    "The Purpose of my repos is to learn, in this repo I try to learn how to use TensorFlow Keras, Hyperopt, MLflow to develop a deep learning model\n",
    "\n",
    "It includes the following steps: \n",
    "- STEP 1: DATA PREP\n",
    "Load and preprocess data \n",
    "- STEP 2: Neural Network Model\n",
    "        Part 1. Create a neural network model with TensorFlow Keras and view training with inline TensorBoard\n",
    "        Part 2. Perform automated hyperparameter tuning with Hyperopt and MLflow and use autologging to save results\n",
    "        Part 3. Use the best set of hyperparameters to build a final model\n",
    "        Part 4. Register the model in MLflow and use the model to make predictions\n",
    "\n",
    "This repo follow instructions notebooks provided on DataBricks websites"
   ]
  },
  {
   "cell_type": "code",
   "execution_count": 2,
   "id": "d37eedb9",
   "metadata": {},
   "outputs": [],
   "source": [
    "#tensorflow libraries, mlflow\n",
    "import tensorflow as tf\n",
    "from tensorflow.keras.layers import Dense\n",
    "from tensorflow.keras.models import Sequential\n",
    "import mlflow\n",
    "import mlflow.keras\n",
    "import mlflow.tensorflow"
   ]
  },
  {
   "cell_type": "markdown",
   "id": "03af3305",
   "metadata": {},
   "source": [
    "## DATA PREP\n",
    "Using California Housing dataset scikit-learn."
   ]
  },
  {
   "cell_type": "markdown",
   "id": "a1e7028f",
   "metadata": {},
   "source": [
    "### Load and train-test-split dataset"
   ]
  },
  {
   "cell_type": "code",
   "execution_count": 7,
   "id": "f9b92c91",
   "metadata": {},
   "outputs": [],
   "source": [
    "from sklearn.datasets import fetch_california_housing\n",
    "from sklearn.model_selection import train_test_split\n",
    "\n",
    "df_cal_housing = fetch_california_housing()\n",
    "\n",
    "#split train-test\n",
    "X_train, X_test, y_train, y_test = train_test_split(df_cal_housing.data, df_cal_housing.target, test_size=0.2)"
   ]
  },
  {
   "cell_type": "code",
   "execution_count": 10,
   "id": "0eb7a4cf",
   "metadata": {},
   "outputs": [
    {
     "data": {
      "text/plain": [
       "array([[   2.1447    ,   26.        ,    3.48595041, ...,    3.50413223,\n",
       "          33.79      , -118.27      ],\n",
       "       [   4.1739    ,   36.        ,    5.45962733, ...,    2.86749482,\n",
       "          34.09      , -117.71      ],\n",
       "       [   3.1641    ,   17.        ,    5.58348624, ...,    2.6733945 ,\n",
       "          35.35      , -120.49      ],\n",
       "       ...,\n",
       "       [   2.63      ,   52.        ,    4.51311953, ...,    3.29737609,\n",
       "          34.07      , -117.75      ],\n",
       "       [   3.3326    ,   52.        ,    3.89162562, ...,    3.60098522,\n",
       "          34.12      , -118.2       ],\n",
       "       [   8.0784    ,   52.        ,    6.88219178, ...,    2.67945205,\n",
       "          33.77      , -117.87      ]])"
      ]
     },
     "execution_count": 10,
     "metadata": {},
     "output_type": "execute_result"
    }
   ],
   "source": [
    "X_train"
   ]
  },
  {
   "cell_type": "markdown",
   "id": "3fc6ae30",
   "metadata": {},
   "source": [
    "### Scale features\n",
    "Feature scaling is important when working with neural networks, we will use StandardScaler"
   ]
  },
  {
   "cell_type": "code",
   "execution_count": 11,
   "id": "40446689",
   "metadata": {},
   "outputs": [],
   "source": [
    "from sklearn.preprocessing import StandardScaler\n",
    "\n",
    "scaler = StandardScaler()\n",
    "X_train = scaler.fit_transform(X_train)\n",
    "X_test = scaler.transform(X_test) #scaler is fitted by X_train already, using transform only"
   ]
  },
  {
   "cell_type": "markdown",
   "id": "a1c52d90",
   "metadata": {},
   "source": [
    "## Neural Network Model"
   ]
  },
  {
   "cell_type": "markdown",
   "id": "6001c582",
   "metadata": {},
   "source": [
    "#### Part 1. Create model and view TensorBoard in notebook"
   ]
  },
  {
   "cell_type": "code",
   "execution_count": 12,
   "id": "4363391e",
   "metadata": {},
   "outputs": [],
   "source": [
    "#define model\n",
    "def create_model():\n",
    "    model = Sequential()\n",
    "    #relu = rectified linear activation function - looks and acts like a linear function, \n",
    "    #but is, in fact, a nonlinear function allowing complex relationships in the data to be learned.\n",
    "    #Dense is layer, is deeply connected with its preceding layer \n",
    "    # which means the neurons of the layer are connected to every neuron of its preceding layer. \n",
    "    model.add(Dense(20, input_dim=8, activation='relu'))\n",
    "    model.add(Dense(20, activation='relu'))\n",
    "    model.add(Dense(1, activation='linear'))\n",
    "    return model"
   ]
  },
  {
   "cell_type": "code",
   "execution_count": 13,
   "id": "e966397b",
   "metadata": {},
   "outputs": [
    {
     "name": "stdout",
     "output_type": "stream",
     "text": [
      "Metal device set to: Apple M1\n"
     ]
    },
    {
     "name": "stderr",
     "output_type": "stream",
     "text": [
      "2023-03-01 23:55:34.519957: I tensorflow/core/common_runtime/pluggable_device/pluggable_device_factory.cc:306] Could not identify NUMA node of platform GPU ID 0, defaulting to 0. Your kernel may not have been built with NUMA support.\n",
      "2023-03-01 23:55:34.520184: I tensorflow/core/common_runtime/pluggable_device/pluggable_device_factory.cc:272] Created TensorFlow device (/job:localhost/replica:0/task:0/device:GPU:0 with 0 MB memory) -> physical PluggableDevice (device: 0, name: METAL, pci bus id: <undefined>)\n"
     ]
    }
   ],
   "source": [
    "#compile the model\n",
    "model = create_model()\n",
    "#----\n",
    "model.compile(loss='mse',\n",
    "             optimizer='Adam',\n",
    "             metrics=['mse'])"
   ]
  },
  {
   "cell_type": "code",
   "execution_count": null,
   "id": "68b9a009",
   "metadata": {},
   "outputs": [],
   "source": [
    "#"
   ]
  }
 ],
 "metadata": {
  "kernelspec": {
   "display_name": "Python 3.8 (tensorflow)",
   "language": "python",
   "name": "lighthouse"
  },
  "language_info": {
   "codemirror_mode": {
    "name": "ipython",
    "version": 3
   },
   "file_extension": ".py",
   "mimetype": "text/x-python",
   "name": "python",
   "nbconvert_exporter": "python",
   "pygments_lexer": "ipython3",
   "version": "3.9.13"
  }
 },
 "nbformat": 4,
 "nbformat_minor": 5
}
