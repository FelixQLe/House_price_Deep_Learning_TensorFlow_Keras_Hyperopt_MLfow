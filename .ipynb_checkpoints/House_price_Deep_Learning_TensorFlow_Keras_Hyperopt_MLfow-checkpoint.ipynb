{
 "cells": [
  {
   "cell_type": "markdown",
   "id": "5425c2b4",
   "metadata": {},
   "source": [
    "## NOTE\n",
    "The Purpose of my repos is to learn, in this repo I try to learn how to use TensorFlow Keras, Hyperopt, MLflow to develop a deep learning model\n",
    "\n",
    "It includes the following steps: \n",
    "- STEP 1: DATA PREP\n",
    "Load and preprocess data \n",
    "- STEP 2: Neural Network Model\n",
    "        Part 1. Create a neural network model with TensorFlow Keras and view training with inline TensorBoard\n",
    "        Part 2. Perform automated hyperparameter tuning with Hyperopt and MLflow and use autologging to save results\n",
    "        Part 3. Use the best set of hyperparameters to build a final model\n",
    "        Part 4. Register the model in MLflow and use the model to make predictions\n",
    "\n",
    "This repo follow instructions notebooks provided on DataBricks websites"
   ]
  },
  {
   "cell_type": "code",
   "execution_count": 2,
   "id": "e451e9bd",
   "metadata": {},
   "outputs": [],
   "source": [
    "#tensorflow libraries, mlflow\n",
    "import tensorflow as tf\n",
    "from tensorflow.keras.layers import Dense\n",
    "from tensorflow.keras.models import Sequential\n",
    "import mlflow\n",
    "import mlflow.keras\n",
    "import mlflow.tensorflow"
   ]
  },
  {
   "cell_type": "markdown",
   "id": "84d2047b",
   "metadata": {},
   "source": [
    "## DATA PREP\n",
    "Using California Housing dataset scikit-learn."
   ]
  },
  {
   "cell_type": "markdown",
   "id": "db3a1fbc",
   "metadata": {},
   "source": [
    "### Load and train-test-split dataset"
   ]
  },
  {
   "cell_type": "code",
   "execution_count": 7,
   "id": "4405ec37",
   "metadata": {},
   "outputs": [],
   "source": [
    "from sklearn.datasets import fetch_california_housing\n",
    "from sklearn.model_selection import train_test_split\n",
    "\n",
    "df_cal_housing = fetch_california_housing()\n",
    "\n",
    "#split train-test\n",
    "X_train, X_test, y_train, y_test = train_test_split(df_cal_housing.data, df_cal_housing.target, test_size=0.2)"
   ]
  },
  {
   "cell_type": "code",
   "execution_count": 10,
   "id": "3bf08f25",
   "metadata": {},
   "outputs": [
    {
     "data": {
      "text/plain": [
       "array([[   2.1447    ,   26.        ,    3.48595041, ...,    3.50413223,\n",
       "          33.79      , -118.27      ],\n",
       "       [   4.1739    ,   36.        ,    5.45962733, ...,    2.86749482,\n",
       "          34.09      , -117.71      ],\n",
       "       [   3.1641    ,   17.        ,    5.58348624, ...,    2.6733945 ,\n",
       "          35.35      , -120.49      ],\n",
       "       ...,\n",
       "       [   2.63      ,   52.        ,    4.51311953, ...,    3.29737609,\n",
       "          34.07      , -117.75      ],\n",
       "       [   3.3326    ,   52.        ,    3.89162562, ...,    3.60098522,\n",
       "          34.12      , -118.2       ],\n",
       "       [   8.0784    ,   52.        ,    6.88219178, ...,    2.67945205,\n",
       "          33.77      , -117.87      ]])"
      ]
     },
     "execution_count": 10,
     "metadata": {},
     "output_type": "execute_result"
    }
   ],
   "source": [
    "X_train"
   ]
  },
  {
   "cell_type": "markdown",
   "id": "cec20982",
   "metadata": {},
   "source": [
    "### Scale features\n",
    "Feature scaling is import"
   ]
  },
  {
   "cell_type": "code",
   "execution_count": null,
   "id": "ba84bfe5",
   "metadata": {},
   "outputs": [],
   "source": []
  }
 ],
 "metadata": {
  "kernelspec": {
   "display_name": "Python 3.8 (tensorflow)",
   "language": "python",
   "name": "lighthouse"
  },
  "language_info": {
   "codemirror_mode": {
    "name": "ipython",
    "version": 3
   },
   "file_extension": ".py",
   "mimetype": "text/x-python",
   "name": "python",
   "nbconvert_exporter": "python",
   "pygments_lexer": "ipython3",
   "version": "3.9.13"
  }
 },
 "nbformat": 4,
 "nbformat_minor": 5
}
